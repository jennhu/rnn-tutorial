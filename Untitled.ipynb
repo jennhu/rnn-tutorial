{
 "cells": [
  {
   "cell_type": "markdown",
   "metadata": {},
   "source": [
    "Recurrent neural networks: \n",
    "\n",
    "Two approaches:\n",
    "\n",
    "Deep learning:  to process time-series signal: \n",
    "Neuroscience  (dynamical systems view): natural modeling approach: associative memory, working memory model..)\n",
    "\n",
    "dynamical systems already have internal state: \n",
    "\n",
    "$$\\dot{h} = f(h(t) | \\theta) $$\n",
    "(continuous time version: $\\dot{h} = f(h | \\theta) $)\n",
    "(discrete time version: $h_{t+1} = f(h_{t} | \\theta) $)\n",
    "where $\\theta$ is parameters of the model.\n",
    "\n",
    "\n",
    "$$ \\tau \\dot{x} = - x + \\sigma(W_r x + W_i i(t)) $$\n",
    "\n",
    "with $\\theta = \\{ W_r, W_i \\} $ being trainable weight parameters. \n",
    "\n",
    "\n",
    "Discrete-time version;\n",
    "\n",
    "$$ \\tau \\dot{x} = - x + \\sigma(W_r x + W_i i(t)) $$\n",
    "\n",
    "\n",
    "\n",
    "all-to-all connection: most general connectivity structure. \n",
    "\n",
    "\n",
    "examples: \n",
    "\n",
    "\n"
   ]
  },
  {
   "cell_type": "code",
   "execution_count": null,
   "metadata": {},
   "outputs": [],
   "source": []
  }
 ],
 "metadata": {
  "kernelspec": {
   "display_name": "Python [conda env:rnnTutorial] *",
   "language": "python",
   "name": "conda-env-rnnTutorial-py"
  },
  "language_info": {
   "codemirror_mode": {
    "name": "ipython",
    "version": 3
   },
   "file_extension": ".py",
   "mimetype": "text/x-python",
   "name": "python",
   "nbconvert_exporter": "python",
   "pygments_lexer": "ipython3",
   "version": "3.7.3"
  }
 },
 "nbformat": 4,
 "nbformat_minor": 2
}
